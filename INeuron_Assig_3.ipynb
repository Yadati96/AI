{
 "cells": [
  {
   "cell_type": "markdown",
   "metadata": {},
   "source": [
    "1.1 Write a Python Program to implement your own myreduce() function which works exactly\n",
    "like Python's built-in function reduce()"
   ]
  },
  {
   "cell_type": "code",
   "execution_count": 6,
   "metadata": {},
   "outputs": [
    {
     "name": "stdout",
     "output_type": "stream",
     "text": [
      "1600\n"
     ]
    }
   ],
   "source": [
    "# reduce() by using Lambda\n",
    "# multiplying lst elements\n",
    "\n",
    "from functools import reduce\n",
    "lst=[2,4,10,20]\n",
    "result=reduce((lambda x,y:x*y),lst)\n",
    "print(result)"
   ]
  },
  {
   "cell_type": "code",
   "execution_count": 11,
   "metadata": {},
   "outputs": [
    {
     "name": "stdout",
     "output_type": "stream",
     "text": [
      "-48000\n"
     ]
    }
   ],
   "source": [
    "# reduce() by using Functions\n",
    "# multiplying lst elements\n",
    "\n",
    "def prod(m,n):\n",
    "    return m*n\n",
    "\n",
    "l=[2,4,10,20,-30]\n",
    "final=reduce(prod,l)\n",
    "print(final)"
   ]
  },
  {
   "cell_type": "markdown",
   "metadata": {},
   "source": [
    "1.2 Write a Python program to implement your own myfilter() function which works exactly\n",
    "like Python's built-in function filter()\n",
    "\n"
   ]
  },
  {
   "cell_type": "code",
   "execution_count": 10,
   "metadata": {},
   "outputs": [
    {
     "name": "stdout",
     "output_type": "stream",
     "text": [
      "[3, 11, 19, 21, 23]\n"
     ]
    }
   ],
   "source": [
    "# filter() by using Lambda\n",
    "#filtering odd values in the list\n",
    "\n",
    "data=[3,10,11,19,20,21,23,26]\n",
    "res=list(filter(lambda a:(a%2)!=0,data))\n",
    "print(res)\n"
   ]
  },
  {
   "cell_type": "code",
   "execution_count": 9,
   "metadata": {},
   "outputs": [
    {
     "name": "stdout",
     "output_type": "stream",
     "text": [
      "[9, 11, 13, 29]\n"
     ]
    }
   ],
   "source": [
    "# filter() by using Functions\n",
    "#filtering odd values in the list\n",
    "\n",
    "def is_odd(n):\n",
    "    return (n%2)!=0\n",
    "\n",
    "nums=[2,10,40,9,11,16,13,29]\n",
    "odd=list(filter(is_odd,nums))\n",
    "print(odd)"
   ]
  },
  {
   "cell_type": "markdown",
   "metadata": {},
   "source": [
    "2. Implement List comprehensions to produce the following lists.\n",
    "\n",
    "   Write List comprehensions to produce the following Lists"
   ]
  },
  {
   "cell_type": "markdown",
   "metadata": {},
   "source": [
    "a. ['x', 'xx', 'xxx', 'xxxx', 'y', 'yy', 'yyy', 'yyyy', 'z', 'zz', 'zzz', 'zzzz']\n",
    "\n",
    "b. ['x', 'y', 'z', 'xx', 'yy', 'zz', 'xxx', 'yyy', 'zzz', 'xxxx', 'yyyy', 'zzzz']\n",
    "\n",
    "c. [[2], [3], [4], [3], [4], [5], [4], [5], [6]]\n",
    "\n",
    "d. [[2, 3, 4, 5], [3, 4, 5, 6],\n",
    "   [4, 5, 6, 7], [5, 6, 7, 8]]\n",
    "\n",
    "e. [(1, 1), (2, 1), (3, 1), (1, 2), (2, 2), (3, 2), (1, 3), (2, 3), (3, 3)]"
   ]
  },
  {
   "cell_type": "code",
   "execution_count": 80,
   "metadata": {},
   "outputs": [
    {
     "name": "stdout",
     "output_type": "stream",
     "text": [
      "['x', 'xx', 'xxx', 'xxxx', 'y', 'yy', 'yyy', 'yyyy', 'z', 'zz', 'zzz', 'zzzz']\n"
     ]
    }
   ],
   "source": [
    "#2(a)\n",
    "\n",
    "lst=['x','y','z']\n",
    "tot=[[i,i*2,i*3,i*4] for i in lst]\n",
    "flatten=[val for sublist in tot for val in sublist]\n",
    "print(flatten)\n"
   ]
  },
  {
   "cell_type": "code",
   "execution_count": 85,
   "metadata": {},
   "outputs": [
    {
     "name": "stdout",
     "output_type": "stream",
     "text": [
      "['x', 'y', 'z', 'xx', 'yy', 'zz', 'xxx', 'yyy', 'zzz', 'xxxx', 'yyyy', 'zzzz']\n"
     ]
    }
   ],
   "source": [
    "#2(b)\n",
    "\n",
    "lis=['x','y','z']\n",
    "matrix=[[i,i*2,i*3,i*4] for i in lis]\n",
    "m=[[j[i]for j in matrix] for i in range(4)]\n",
    "flat=[ ele for sublist1 in m for ele in sublist1]\n",
    "print(flat)"
   ]
  },
  {
   "cell_type": "code",
   "execution_count": 87,
   "metadata": {},
   "outputs": [
    {
     "name": "stdout",
     "output_type": "stream",
     "text": [
      "[[2], [3], [4], [3], [4], [5], [4], [5], [6]]\n"
     ]
    }
   ],
   "source": [
    "#2(c)\n",
    "\n",
    "items=range(2,5)\n",
    "k=[[x,x+1,x+2] for x in items]\n",
    "y=[[u] for v in k for u in v]\n",
    "print(y)\n"
   ]
  },
  {
   "cell_type": "code",
   "execution_count": 82,
   "metadata": {},
   "outputs": [
    {
     "name": "stdout",
     "output_type": "stream",
     "text": [
      "[[2, 3, 4, 5], [3, 4, 5, 6], [4, 5, 6, 7], [5, 6, 7, 8]]\n"
     ]
    }
   ],
   "source": [
    "#2(d)\n",
    "\n",
    "lt=[[x,x+1,x+2,x+3] for x in range(2,6)]\n",
    "print(lt)"
   ]
  },
  {
   "cell_type": "code",
   "execution_count": 67,
   "metadata": {},
   "outputs": [
    {
     "name": "stdout",
     "output_type": "stream",
     "text": [
      "[(1, 1), (2, 1), (3, 1), (1, 2), (2, 2), (3, 2), (1, 3), (2, 3), (3, 3)]\n"
     ]
    }
   ],
   "source": [
    "#2(e)\n",
    "\n",
    "numbers=range(1,4)\n",
    "t=[(i,j) for j in numbers for i in numbers]\n",
    "print(t)"
   ]
  },
  {
   "cell_type": "code",
   "execution_count": null,
   "metadata": {},
   "outputs": [],
   "source": []
  }
 ],
 "metadata": {
  "kernelspec": {
   "display_name": "Python 3",
   "language": "python",
   "name": "python3"
  },
  "language_info": {
   "codemirror_mode": {
    "name": "ipython",
    "version": 3
   },
   "file_extension": ".py",
   "mimetype": "text/x-python",
   "name": "python",
   "nbconvert_exporter": "python",
   "pygments_lexer": "ipython3",
   "version": "3.6.5"
  }
 },
 "nbformat": 4,
 "nbformat_minor": 2
}
