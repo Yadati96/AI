{
 "cells": [
  {
   "cell_type": "markdown",
   "metadata": {},
   "source": [
    "1.1\n",
    "\n",
    "Write a Python Program(with class concepts) to find the area of the triangle using the below\n",
    " formula.\n",
    "    area = (s*(s-a)*(s-b)*(s-c)) ** 0.5\n",
    "  \n",
    "  \n",
    " Function to take the length of the sides of triangle from user should be defined in the parent\n",
    "class and function to calculate the area should be defined in subclass."
   ]
  },
  {
   "cell_type": "code",
   "execution_count": 10,
   "metadata": {},
   "outputs": [
    {
     "name": "stdout",
     "output_type": "stream",
     "text": [
      "Enter any value:6\n",
      "Enter any value:9\n",
      "Enter any value:6\n",
      "Area of the triangle is 17.86\n"
     ]
    }
   ],
   "source": [
    "class Area_of_triangle:\n",
    "    def __init__(self, a, b, c):\n",
    "        self.a = a\n",
    "        self.b = b\n",
    "        self.c = c\n",
    "    def area(self):\n",
    "        s = (self.a+self.b+self.c)/2\n",
    "        result = (s*(s-self.a)*(s-self.b)*(s-self.c))**0.5\n",
    "        return result\n",
    "    \n",
    "a = int(input(\"Enter any value:\"))\n",
    "b = int(input(\"Enter any value:\"))\n",
    "c = int(input(\"Enter any value:\"))\n",
    "\n",
    "if __name__==\"__main__\":\n",
    "    triangle = Area_of_triangle(a, b, c)\n",
    "    print(\"Area of the triangle is {}\".format(round(triangle.area(),2)))"
   ]
  },
  {
   "cell_type": "markdown",
   "metadata": {},
   "source": [
    "1.2\n",
    "\n",
    "Write a function filter_long_words() that takes a list of words and an integer n and returns\n",
    "the list of words that are longer than n."
   ]
  },
  {
   "cell_type": "code",
   "execution_count": 16,
   "metadata": {},
   "outputs": [
    {
     "name": "stdout",
     "output_type": "stream",
     "text": [
      "['america', 'swizerland', 'Europe', 'netherlands']\n"
     ]
    }
   ],
   "source": [
    "def filter_long_words(lst,n):\n",
    "    l=[]\n",
    "    for i in lst:\n",
    "        if len(i)>n:\n",
    "            l.append(i)\n",
    "    return l\n",
    "words=[\"america\",\"swizerland\",\"India\",\"Europe\",\"netherlands\",\"paris\",\"bihar\"]\n",
    "num=5\n",
    "print(filter_long_words(words,num))"
   ]
  },
  {
   "cell_type": "markdown",
   "metadata": {},
   "source": [
    "2.1\n",
    "\n",
    "Write a Python program using function concept that maps list of words into a list of integers\n",
    "representing the lengths of the corresponding words.\n",
    "\n",
    "Hint: If a list [ ab,cde,erty] is passed on to the python function output should come as [2,3,4]\n",
    "\n",
    "Here 2,3 and 4 are the lengths of the words in the list."
   ]
  },
  {
   "cell_type": "code",
   "execution_count": 29,
   "metadata": {},
   "outputs": [
    {
     "name": "stdout",
     "output_type": "stream",
     "text": [
      "[6, 9, 5, 8, 5]\n"
     ]
    }
   ],
   "source": [
    "def lst_words(data):\n",
    "    return (len(data))\n",
    "    \n",
    "d=[\"secret\",\"datagiven\",\"toyou\",\"surprise\",\"party\"]\n",
    "print(list(map(lst_words,d)))\n"
   ]
  },
  {
   "cell_type": "markdown",
   "metadata": {},
   "source": [
    "2.2\n",
    "\n",
    "Write a Python function which takes a character (i.e. a string of length 1) and returns True if\n",
    "it is a vowel, False otherwise."
   ]
  },
  {
   "cell_type": "code",
   "execution_count": 47,
   "metadata": {},
   "outputs": [
    {
     "name": "stdout",
     "output_type": "stream",
     "text": [
      "Enter any character:u\n",
      "True\n"
     ]
    }
   ],
   "source": [
    "def is_vowel(li):\n",
    "    for s in li:  \n",
    "        if s =='a' or  s == 'e' or s =='i' or s == 'o' or s =='u':\n",
    "            return True \n",
    "        return False\n",
    "    \n",
    "char=input(\"Enter any character:\")    \n",
    "print(is_vowel(char))"
   ]
  },
  {
   "cell_type": "code",
   "execution_count": null,
   "metadata": {},
   "outputs": [],
   "source": []
  }
 ],
 "metadata": {
  "kernelspec": {
   "display_name": "Python 3",
   "language": "python",
   "name": "python3"
  },
  "language_info": {
   "codemirror_mode": {
    "name": "ipython",
    "version": 3
   },
   "file_extension": ".py",
   "mimetype": "text/x-python",
   "name": "python",
   "nbconvert_exporter": "python",
   "pygments_lexer": "ipython3",
   "version": "3.6.5"
  }
 },
 "nbformat": 4,
 "nbformat_minor": 2
}
